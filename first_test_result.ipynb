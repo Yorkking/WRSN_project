{
 "cells": [
  {
   "cell_type": "code",
   "execution_count": 5,
   "metadata": {
    "scrolled": false
   },
   "outputs": [
    {
     "name": "stdout",
     "output_type": "stream",
     "text": [
      "chargeList []\n",
      "live rate 0.76 efficiency rate: -100 %\n",
      "chargeList []\n",
      "live rate 0.7610062893081762 efficiency rate: -100 %\n",
      "chargeList []\n",
      "live rate 0.8014705882352942 efficiency rate: -100 %\n",
      "chargeList [<first_test_performance.Node object at 0x00000277904ED7B8>]\n",
      "live rate 0.8130081300813008 efficiency rate: 0.003778062673901788 %\n",
      "chargeList []\n",
      "live rate 0.8170731707317073 efficiency rate: -100 %\n",
      "chargeList []\n",
      "live rate 0.7785714285714286 efficiency rate: -100 %\n",
      "chargeList []\n",
      "live rate 0.7254901960784313 efficiency rate: -100 %\n"
     ]
    }
   ],
   "source": [
    "%run test.py"
   ]
  },
  {
   "cell_type": "code",
   "execution_count": null,
   "metadata": {},
   "outputs": [],
   "source": []
  }
 ],
 "metadata": {
  "kernelspec": {
   "display_name": "Python 3",
   "language": "python",
   "name": "python3"
  },
  "language_info": {
   "codemirror_mode": {
    "name": "ipython",
    "version": 3
   },
   "file_extension": ".py",
   "mimetype": "text/x-python",
   "name": "python",
   "nbconvert_exporter": "python",
   "pygments_lexer": "ipython3",
   "version": "3.7.3"
  }
 },
 "nbformat": 4,
 "nbformat_minor": 2
}
